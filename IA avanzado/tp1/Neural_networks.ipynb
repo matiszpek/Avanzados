{
 "cells": [
  {
   "cell_type": "code",
   "execution_count": null,
   "metadata": {},
   "outputs": [],
   "source": [
    "import numpy as np\n",
    "import matplotlib.pyplot as plt\n",
    "import pandas as pd\n"
   ]
  },
  {
   "cell_type": "code",
   "execution_count": null,
   "metadata": {},
   "outputs": [],
   "source": [
    "# Importing the dataset\n",
    "dataset = pd.read_csv('data.csv')\n",
    "\n",
    "# paso a array de numpy\n",
    "X = dataset.iloc[:, :-1].values\n",
    "y = dataset.iloc[:, 1].values\n",
    "\n"
   ]
  },
  {
   "cell_type": "markdown",
   "metadata": {},
   "source": [
    "Para la red neuronal preparo las funciones matematicas que voy a usar:\n",
    "Relu: para aplanar los valores entre 0 y1\n",
    "Sigmoide:"
   ]
  },
  {
   "cell_type": "code",
   "execution_count": null,
   "metadata": {},
   "outputs": [],
   "source": [
    "#funciones matematicas\n",
    "# define Relu function\n",
    "def relu(x):\n",
    "    return np.maximum(0, x)\n",
    "\n",
    "# define sigmoid function\n",
    "def sigmoid(x):\n",
    "    return 1 / (1 + np.exp(-x))\n",
    "\n",
    "def sigmoid_derivative(x):\n",
    "    return x * (1 - x)\n",
    "\n"
   ]
  },
  {
   "cell_type": "code",
   "execution_count": null,
   "metadata": {},
   "outputs": [],
   "source": [
    "#defino las funciones de forward propgation\n",
    "\n",
    "def forward_propagation(X, w1, w2):\n",
    "    layer0 = X\n",
    "    layer1 = relu(np.dot(layer0, w1))\n",
    "    layer2 = sigmoid(np.dot(layer1, w2))\n",
    "    return layer0, layer1, layer2\n"
   ]
  },
  {
   "cell_type": "code",
   "execution_count": null,
   "metadata": {},
   "outputs": [],
   "source": [
    "#defino las funciones de backpropagation\n",
    "def back_propagation(layer0, layer1, layer2, y, w1, w2, learning_rate):\n",
    "    l2_error = y - layer2\n",
    "    l2_delta = l2_error * sigmoid_derivative(layer2)\n",
    "    l1_error = l2_delta.dot(w2.T)\n",
    "    l1_delta = l1_error * sigmoid_derivative(layer1)\n",
    "\n",
    "    w2 += learning_rate * layer1.T.dot(l2_delta)\n",
    "    w1 += learning_rate * layer0.T.dot(l1_delta)\n",
    "\n",
    "    return w1, w2\n",
    "\n",
    "#defino la funcion de entrenamiento\n",
    "def train(X, y, learning_rate, epochs):\n",
    "    np.random.seed(1)\n",
    "    w1 = np.random.randn(3, 4)\n",
    "    w2 = np.random.randn(4, 1)\n",
    "    for i in range(epochs):\n",
    "        layer0, layer1, layer2 = forward_propagation(X, w1, w2)\n",
    "        w1, w2 = back_propagation(layer0, layer1, layer2, y, w1, w2, learning_rate)\n",
    "    return w1, w2"
   ]
  },
  {
   "cell_type": "code",
   "execution_count": null,
   "metadata": {},
   "outputs": [],
   "source": [
    "#calculo el error\n",
    "def calculate_error(X, y, w1, w2):\n",
    "    _, _, layer2 = forward_propagation(X, w1, w2)\n",
    "    return np.mean(np.abs(y - layer2))\n",
    "\n",
    "#multi categorical cross entropy\n",
    "def cross_entropy(y, y_hat):\n",
    "    return -np.sum(y * np.log(y_hat))\n",
    "\n",
    "\n"
   ]
  }
 ],
 "metadata": {
  "language_info": {
   "name": "python"
  }
 },
 "nbformat": 4,
 "nbformat_minor": 2
}
